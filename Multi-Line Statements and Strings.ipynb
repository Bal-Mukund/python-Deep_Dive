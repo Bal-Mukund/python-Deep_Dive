{
 "cells": [
  {
   "cell_type": "markdown",
   "id": "920f8539",
   "metadata": {},
   "source": [
    "### Implicit physical line conversion"
   ]
  },
  {
   "cell_type": "code",
   "execution_count": 4,
   "id": "5225be50",
   "metadata": {},
   "outputs": [],
   "source": [
    "fruit = [\"apple\",  # not tasty\n",
    "        \"pine\",   # too tasty!\n",
    "        \"carrot\"]"
   ]
  },
  {
   "cell_type": "code",
   "execution_count": 5,
   "id": "361ec13c",
   "metadata": {},
   "outputs": [],
   "source": [
    "keys = {\"key1\": 1,\n",
    "       \"key2\": 2, # comment\n",
    "       \"key3\": 3}"
   ]
  },
  {
   "cell_type": "code",
   "execution_count": 9,
   "id": "81fb2ec4",
   "metadata": {},
   "outputs": [],
   "source": [
    "def my_func(a, # this is use to indicate a\n",
    "           b,\n",
    "           c): # comment\n",
    "    print(a, b, c)\n",
    "    "
   ]
  },
  {
   "cell_type": "markdown",
   "id": "6b86199e",
   "metadata": {},
   "source": [
    "The indentation of the continuation lines is not important"
   ]
  },
  {
   "cell_type": "code",
   "execution_count": 10,
   "id": "1962b92e",
   "metadata": {},
   "outputs": [
    {
     "name": "stdout",
     "output_type": "stream",
     "text": [
      "hi! hello bye\n"
     ]
    }
   ],
   "source": [
    "my_func(\"hi!\", # comment\n",
    "       \"hello\",\n",
    "       \"bye\" # bye bye!\n",
    "       )"
   ]
  },
  {
   "cell_type": "markdown",
   "id": "352f8cb3",
   "metadata": {},
   "source": [
    "### Explicit physical line conversion"
   ]
  },
  {
   "cell_type": "markdown",
   "id": "e3129104",
   "metadata": {},
   "source": [
    "using continuation character (\"backslash\") \n",
    "you can break single logical line to many physical lines"
   ]
  },
  {
   "cell_type": "code",
   "execution_count": 21,
   "id": "68db6559",
   "metadata": {},
   "outputs": [],
   "source": [
    "a = 10\n",
    "b = 20\n",
    "c = 30"
   ]
  },
  {
   "cell_type": "markdown",
   "id": "4dd562c3",
   "metadata": {},
   "source": [
    " You must press enter after continuation character, \n",
    " Note: Space after continuation character (\"backslash\") leads to error"
   ]
  },
  {
   "cell_type": "code",
   "execution_count": 26,
   "id": "c737553c",
   "metadata": {},
   "outputs": [
    {
     "name": "stdout",
     "output_type": "stream",
     "text": [
      "yes!\n"
     ]
    }
   ],
   "source": [
    "if a > 5 and \\\n",
    "    b > 10 and \\\n",
    "        c > 15:\n",
    "    print(\"yes!\")"
   ]
  },
  {
   "cell_type": "markdown",
   "id": "c216363a",
   "metadata": {},
   "source": [
    "indentation does matter while using continuation character (\"backslash\") \n",
    "bcz all the physical newlines will be removed and converted into 1 single logical line"
   ]
  },
  {
   "cell_type": "markdown",
   "id": "43fd7340",
   "metadata": {},
   "source": [
    "### Multi-line string "
   ]
  },
  {
   "cell_type": "code",
   "execution_count": 28,
   "id": "10168300",
   "metadata": {},
   "outputs": [],
   "source": [
    "a = '''this is a string\n",
    "       created over mulitiple\n",
    "        lines'''"
   ]
  },
  {
   "cell_type": "code",
   "execution_count": 29,
   "id": "8a5b7a34",
   "metadata": {},
   "outputs": [
    {
     "data": {
      "text/plain": [
       "'this is a string\\n       created over mulitiple\\n        lines'"
      ]
     },
     "execution_count": 29,
     "metadata": {},
     "output_type": "execute_result"
    }
   ],
   "source": [
    "a"
   ]
  },
  {
   "cell_type": "code",
   "execution_count": 30,
   "id": "64d58a3e",
   "metadata": {},
   "outputs": [
    {
     "name": "stdout",
     "output_type": "stream",
     "text": [
      "this is a string\n",
      "       created over mulitiple\n",
      "        lines\n"
     ]
    }
   ],
   "source": [
    "print(a)"
   ]
  },
  {
   "cell_type": "markdown",
   "id": "51ca46a1",
   "metadata": {},
   "source": [
    "this whole multi-line string is treated as a single entity \n",
    "that's why all the newline as indentation is going to be a part of string"
   ]
  },
  {
   "cell_type": "code",
   "execution_count": 32,
   "id": "a85dbd21",
   "metadata": {},
   "outputs": [],
   "source": [
    "a = '''some items:\n",
    "        1: orange\n",
    "        2: apple\n",
    "        3: pine'''"
   ]
  },
  {
   "cell_type": "code",
   "execution_count": 33,
   "id": "57637a42",
   "metadata": {},
   "outputs": [
    {
     "name": "stdout",
     "output_type": "stream",
     "text": [
      "some items:\n",
      "        1: orange\n",
      "        2: apple\n",
      "        3: pine\n"
     ]
    }
   ],
   "source": [
    "print(a)"
   ]
  },
  {
   "cell_type": "markdown",
   "id": "25346e16",
   "metadata": {},
   "source": [
    "you might align multi-line string to look good in your\n",
    "but it might not get same alignment in the console"
   ]
  },
  {
   "cell_type": "code",
   "execution_count": 36,
   "id": "46c80e52",
   "metadata": {},
   "outputs": [],
   "source": [
    "def my_func():\n",
    "    a = '''this text might get indented\n",
    "automatically by the ide but this \n",
    "    auto indentation will become a part of string'''\n",
    "    return a"
   ]
  },
  {
   "cell_type": "markdown",
   "id": "74c48b41",
   "metadata": {},
   "source": [
    "here we not breaking indentation bcz this whole multi-line string \n",
    "is going to be treated as a single entity so whatever inside it doesn't matter \n",
    "if it's indented or not"
   ]
  },
  {
   "cell_type": "code",
   "execution_count": 39,
   "id": "c53de15b",
   "metadata": {},
   "outputs": [
    {
     "name": "stdout",
     "output_type": "stream",
     "text": [
      "this text might get indented\n",
      "automatically by the ide but this \n",
      "auto indentation will become a part of string\n"
     ]
    }
   ],
   "source": [
    "print(my_func())"
   ]
  },
  {
   "cell_type": "code",
   "execution_count": null,
   "id": "28950831",
   "metadata": {},
   "outputs": [],
   "source": []
  }
 ],
 "metadata": {
  "kernelspec": {
   "display_name": "Python 3 (ipykernel)",
   "language": "python",
   "name": "python3"
  },
  "language_info": {
   "codemirror_mode": {
    "name": "ipython",
    "version": 3
   },
   "file_extension": ".py",
   "mimetype": "text/x-python",
   "name": "python",
   "nbconvert_exporter": "python",
   "pygments_lexer": "ipython3",
   "version": "3.11.3"
  }
 },
 "nbformat": 4,
 "nbformat_minor": 5
}
